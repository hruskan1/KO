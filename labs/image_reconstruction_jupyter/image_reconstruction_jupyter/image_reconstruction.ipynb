{
 "cells": [
  {
   "cell_type": "markdown",
   "metadata": {},
   "source": [
    "## Image reconstruction with Minimum Cost Flows\n",
    "\n",
    "_Combinatorial Optimization course, FEE CTU in Prague. Created by [Industrial Informatics Department](http://industrialinformatics.fel.cvut.cz)._\n",
    "\n",
    "In this exercise, we will demonstrate the use of Minimum Cost Flow Problem for 2D image reconstructon from 1D projections. Simalar (but more complax) approaches are used for [X-ray crystallography](https://en.wikipedia.org/wiki/X-ray_crystallography).\n",
    "\n",
    "_References:_\n",
    " - R.  K.  Ahuja,  T.  L.  Magnanti,  and  J.  B.  Orlin,\n",
    "Network  Flows:   Theory,  Algorithms,  andApplications.  Prentice Hall; United States Ed edition, 1993.\n",
    " -  K. J. Batenburg,  “A network flow algorithm for reconstructing binary images from discretex-rays,”J. Math. Imaging Vis., vol. 27, no. 2, pp. 175–191, 2007.\n"
   ]
  },
  {
   "cell_type": "code",
   "execution_count": 49,
   "metadata": {},
   "outputs": [],
   "source": [
    "import sys\n",
    "import gurobipy as g\n",
    "import matplotlib.pyplot as plt\n",
    "%matplotlib inline"
   ]
  },
  {
   "cell_type": "markdown",
   "metadata": {},
   "source": [
    "First we load our input data. These are our four projections and suggesting sequence of projections:"
   ]
  },
  {
   "cell_type": "code",
   "execution_count": 56,
   "metadata": {},
   "outputs": [
    {
     "data": {
      "image/png": "[encoded data removed]",
      "text/plain": [
       "<Figure size 432x288 with 1 Axes>"
      ]
     },
     "metadata": {
      "needs_background": "light"
     },
     "output_type": "display_data"
    },
    {
     "data": {
      "image/png": "[encoded data removed]",
      "text/plain": [
       "<Figure size 432x288 with 1 Axes>"
      ]
     },
     "metadata": {
      "needs_background": "light"
     },
     "output_type": "display_data"
    },
    {
     "name": "stdout",
     "output_type": "stream",
     "text": [
      "['A', 'D', 'C', 'R', 'D', 'A', 'R', 'C', 'A', 'C', 'C', 'R', 'R', 'D', 'D', 'C', 'C', 'A', 'A', 'R', 'R', 'D']\n"
     ]
    }
   ],
   "source": [
    "n = 0\n",
    "k = 0\n",
    "\n",
    "I = {}\n",
    "\n",
    "sumR = ()\n",
    "sumC = ()\n",
    "sumA = ()\n",
    "sumD = ()\n",
    "seq = ()\n",
    "\n",
    "for i, line in enumerate(open('mobile_input.txt', 'r')):\n",
    "    if i == 0:\n",
    "        n, k = list(map(int, line.split()))\n",
    "    if len(line) > 0:\n",
    "        if i == 1:\n",
    "            sumR = list(map(int, line.split()))\n",
    "        if i == 2:\n",
    "            sumC = list(map(int, line.split()))\n",
    "        if i == 3:\n",
    "            sumA = list(map(int, line.split()))\n",
    "        if i == 4:\n",
    "            sumD = list(map(int, line.split()))\n",
    "        if i == 5:\n",
    "            seq = line.split()\n",
    "            \n",
    "plt.imshow([sumR, sumC])\n",
    "plt.title('rows and columns projections')\n",
    "plt.show()\n",
    "plt.title('diagonal projections')\n",
    "plt.imshow([sumA, sumD])\n",
    "plt.show()\n",
    "print(seq)"
   ]
  },
  {
   "cell_type": "markdown",
   "metadata": {},
   "source": [
    "Next, we compute matricies of indicies that serve as basis for constructing graphs for each possible pair of projections."
   ]
  },
  {
   "cell_type": "code",
   "execution_count": 57,
   "metadata": {},
   "outputs": [],
   "source": [
    "mapping = {'R': sumR, 'C': sumC, 'A': sumA, 'D': sumD}\n",
    "\n",
    "indicesR = {}\n",
    "indicesC = {}\n",
    "indicesD = {}\n",
    "indicesA = {}\n",
    "\n",
    "F = {}  # resulting image\n",
    "\n",
    "for i in range(n):\n",
    "    for j in range(n):\n",
    "        indicesR[i, j] = i\n",
    "        indicesC[i, j] = j\n",
    "    for j in range(n):\n",
    "        indicesD[i, j] = n - i + j - 1\n",
    "        indicesA[i, j] = i + j - 1 + 1\n",
    "        F[i, j] = 0\n",
    "\n",
    "\n",
    "indices = {'R': indicesR, 'C': indicesC, 'A': indicesA, 'D': indicesD}"
   ]
  },
  {
   "cell_type": "markdown",
   "metadata": {},
   "source": [
    "Now data is prepared and we let run algorithm to see individual iterations:"
   ]
  },
  {
   "cell_type": "code",
   "execution_count": 58,
   "metadata": {},
   "outputs": [
    {
     "data": {
      "image/png": "[encoded data removed]",
      "text/plain": [
       "<Figure size 1008x432 with 55 Axes>"
      ]
     },
     "metadata": {
      "needs_background": "light"
     },
     "output_type": "display_data"
    }
   ],
   "source": [
    "def mincostflow(G, l, u, b, c):\n",
    "    # here, we will use Linear Programming to solve Minimum Cost Flow Problem. \n",
    "    # In practice, you would use specialized optimized algorithm, which is part of your homework 3.\n",
    "    \n",
    "    m = g.Model()\n",
    "    e = {}\n",
    "    for i, j in G:\n",
    "        e[i, j] = m.addVar(vtype=g.GRB.CONTINUOUS, lb=l[i, j], ub=u[i, j], obj=c[i, j])\n",
    "\n",
    "    m.update()\n",
    "\n",
    "    for k, v in enumerate(b):\n",
    "        m.addConstr(v == -g.quicksum([e[i, k] for i, j in G if j == k]) + g.quicksum([e[k, j] for i, j in G if i == k]))\n",
    "    m.params.outputflag = 0\n",
    "    m.optimize()\n",
    "\n",
    "    if m.Status == g.GRB.OPTIMAL:\n",
    "        flow = {}\n",
    "        for i, j in G:\n",
    "            flow[i, j] = int(round(e[i, j].x))\n",
    "\n",
    "        return flow, int(round(m.objVal))\n",
    "    else:\n",
    "        return None, 0\n",
    "    \n",
    "    \n",
    "fig, axs = plt.subplots(k, int(len(seq)/2), figsize=(14, 6))\n",
    "\n",
    "for ic in range(k):\n",
    "    q = 0\n",
    "    while q < len(seq):\n",
    "        pair = (seq[q], seq[q+1])\n",
    "\n",
    "        sumK = mapping[pair[0]]\n",
    "        sumL = mapping[pair[1]]\n",
    "\n",
    "        G = []\n",
    "        b = mapping[pair[0]] + [-k for k in mapping[pair[1]]]\n",
    "        l = {}\n",
    "        u = {}\n",
    "        c = {}\n",
    "\n",
    "        indicesK = indices[pair[0]]\n",
    "        indicesL = indices[pair[1]]\n",
    "\n",
    "        from_matrix = {}\n",
    "        to_matrix = {}\n",
    "\n",
    "        for i in range(n):\n",
    "            for j in range(n):\n",
    "                from_node = indicesK[i, j]\n",
    "                to_node = indicesL[i, j]\n",
    "\n",
    "                G += [(from_node, to_node + len(sumK))]\n",
    "                c[from_node, to_node + len(sumK)] = 1 - F[i, j]\n",
    "                u[from_node, to_node + len(sumK)] = 1\n",
    "                l[from_node, to_node + len(sumK)] = 0\n",
    "\n",
    "                from_matrix[from_node, to_node + len(sumK)] = i\n",
    "                to_matrix[from_node, to_node + len(sumK)] = j\n",
    "\n",
    "        flow, fval = mincostflow(G, l, u, b, c)\n",
    "\n",
    "        I = [0]*n\n",
    "        for i in range(n):\n",
    "            I[i] = [0]*n\n",
    "\n",
    "        for i, j in from_matrix.keys():\n",
    "            F[from_matrix[i, j], to_matrix[i, j]] = flow[i, j]\n",
    "            I[from_matrix[i, j]][to_matrix[i, j]] = flow[i, j]\n",
    "\n",
    "        axs[ic, int(q/2)].imshow(I, interpolation='none')\n",
    "        q += 2   # take the next projection pair\n",
    "        \n",
    "for ax in axs.flat:\n",
    "    ax.label_outer()"
   ]
  },
  {
   "cell_type": "markdown",
   "metadata": {},
   "source": [
    "The disadvantage of this algorithm is that for some inputs and poorly chosen sequence of projection the algorithm does not converge. Try to experiment with the sequence of projections. How would you improve this algorithm?"
   ]
  },
  {
   "cell_type": "code",
   "execution_count": null,
   "metadata": {},
   "outputs": [],
   "source": []
  }
 ],
 "metadata": {
  "kernelspec": {
   "display_name": "Python 3",
   "language": "python",
   "name": "python3"
  },
  "language_info": {
   "codemirror_mode": {
    "name": "ipython",
    "version": 3
   },
   "file_extension": ".py",
   "mimetype": "text/x-python",
   "name": "python",
   "nbconvert_exporter": "python",
   "pygments_lexer": "ipython3",
   "version": "3.7.6"
  }
 },
 "nbformat": 4,
 "nbformat_minor": 4
}
